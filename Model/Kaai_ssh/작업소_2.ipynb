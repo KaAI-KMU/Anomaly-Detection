{
 "cells": [
  {
   "cell_type": "code",
   "execution_count": 1,
   "metadata": {},
   "outputs": [],
   "source": [
    "import numpy as np\n",
    "import matplotlib.pyplot as plt\n",
    "import torch\n",
    "from torch.utils import data\n",
    "from utils.args import parse_args\n",
    "\n",
    "def rec_plot_module(s, eps=0.01, steps = 255):\n",
    "    N = s.size\n",
    "    S = np.repeat(s[None,:], N, axis = 0)\n",
    "    Z = np.floor(np.abs(S-S.T)/eps)\n",
    "    Z[Z>steps] = steps\n",
    "    \n",
    "    return Z\n",
    "\n",
    "def rec_plot(s, flow = False):\n",
    "    if flow:\n",
    "        storage = np.zeros((s.shape[0], 2))\n",
    "        for index in range(storage.shape[0]):\n",
    "            storage[index,:] = s[index, s.shape[1]//2, s.shape[2]//2, :]\n",
    "        s = storage\n",
    "    storage = np.zeros((s.shape[1], s.shape[0], s.shape[0]))\n",
    "    for index in range(s.shape[1]):\n",
    "        storage[index, :, :] = rec_plot_module(s[:, index])\n",
    "    return storage\n",
    "\n",
    "from config.model_config import * \n",
    "import os\n",
    "import numpy as np\n",
    "import pickle as pkl\n",
    "import glob\n",
    "import torch\n",
    "from torch.utils import data\n",
    "import json\n",
    "\n",
    "device = 'cpu'\n",
    "class Recurrence_DATASET(data.Dataset):\n",
    "    def __init__(self, args, phase):\n",
    "        '''\n",
    "        HEV-I dataset object. Contains bbox, flow and ego motion.\n",
    "        \n",
    "        Params:\n",
    "            args: arguments passed from main file\n",
    "            phase: 'train' or 'val'\n",
    "        '''\n",
    "        self.args = args\n",
    "        self.data_root = os.path.join(self.args['data_root'], phase)\n",
    "        self.video_name = os.listdir(self.data_root)\n",
    "        \n",
    "        self.sessions = glob.glob(os.path.join(self.data_root,'*'))\n",
    "\n",
    "        self.all_inputs = []\n",
    "        for name in self.video_name:\n",
    "            # for each car in dataset, we split to several trainig samples\n",
    "            \n",
    "            #load data and label\n",
    "            data_path = os.path.join(self.data_root, name)\n",
    "            try:\n",
    "                label_path = os.path.join(self.label_root, name + '.json')\n",
    "                label = json.load(open(label_path, 'rb'))\n",
    "                labels = label[\"labels\"] #[frame]['accident_id']\n",
    "            except:\n",
    "                labels = None\n",
    "            data = pkl.load(open(data_path, 'rb'))\n",
    "            \n",
    "            bbox = data['bbox']\n",
    "            flow = data['flow']\n",
    "            ego_motion = data['ego_motion']# [yaw, x, z]\n",
    "            \n",
    "            # frame_id = data['frame_id']\n",
    "\n",
    "            # go farwad along the session to get data samples\n",
    "            seed = np.random.randint(self.args['seed_max'])\n",
    "            for start in range(seed, len(flow), int(self.args['segment_len']/2)):\n",
    "                end = start + self.args['segment_len']\n",
    "                if end + self.args['pred_timesteps'] <= len(bbox) and end <= len(flow):\n",
    "                    input_bbox = rec_plot(bbox[start:end,:])\n",
    "                    input_flow = rec_plot(flow[start:end,:,:,:], flow = True)\n",
    "                    input_ego_motion = rec_plot(ego_motion[start:end,:])\n",
    "                    # target_ego_motion = self.get_target(ego_motion_session, ego_start, ego_end)\n",
    "                    # if input_flow.shape[0] != 16:\n",
    "                    #     print(flow.shape)\n",
    "                    #     print(bbox.shape)\n",
    "                    #     print(input_flow.shape)\n",
    "                    #     print(\"start: {} end:{} length:{}\".format(start, end, self.args.segment_len))\n",
    "                    \n",
    "                    self.all_inputs.append([input_bbox, input_flow, input_ego_motion])\n",
    "            \n",
    "            # go backward along the session to get data samples again\n",
    "            seed = np.random.randint(self.args['seed_max'])\n",
    "            for end in range(min([len(bbox)-self.args['pred_timesteps'], len(flow)]), \n",
    "                             seed, \n",
    "                             -self.args['segment_len']):\n",
    "\n",
    "                start = end - self.args['segment_len']\n",
    "                if start >= 0:\n",
    "                    input_bbox = rec_plot(bbox[start:end,:])\n",
    "                    input_flow = rec_plot(flow[start:end,:,:,:], flow = True)\n",
    "                    input_ego_motion = rec_plot(ego_motion[start:end, :])\n",
    "                    \n",
    "                    # if input_flow.shape[0] != 16:\n",
    "                    #     print(flow.shape)\n",
    "                    #     print(bbox.shape)\n",
    "                    #     print(input_flow.shape)\n",
    "                    #     print(\"start: {} end:{} length:{}\".format(start, end, self.args.segment_len))\n",
    "                    self.all_inputs.append([input_bbox, input_flow, input_ego_motion])\n",
    "\n",
    "    def __len__(self):\n",
    "        return len(self.all_inputs)\n",
    "    \n",
    "    def __getitem__(self, index):\n",
    "        input_bbox, input_flow, input_ego_motion= self.all_inputs[index]\n",
    "        input_bbox = torch.FloatTensor(input_bbox).to(device)\n",
    "        input_flow = torch.FloatTensor(input_flow).to(device)\n",
    "        input_ego_motion = torch.FloatTensor(input_ego_motion).to(device)\n",
    "\n",
    "        return input_bbox, input_flow, input_ego_motion"
   ]
  },
  {
   "cell_type": "code",
   "execution_count": 2,
   "metadata": {},
   "outputs": [],
   "source": [
    "args = parse_args()\n",
    "dataloader_params ={\n",
    "\"batch_size\": args['batch_size'],\n",
    "\"shuffle\": args['shuffle'],\n",
    "\"num_workers\": args['num_workers']\n",
    "}"
   ]
  },
  {
   "cell_type": "code",
   "execution_count": 3,
   "metadata": {},
   "outputs": [],
   "source": [
    "result = Recurrence_DATASET(args, 'val')\n",
    "result_get = data.DataLoader(result, **dataloader_params)"
   ]
  },
  {
   "cell_type": "code",
   "execution_count": 4,
   "metadata": {},
   "outputs": [],
   "source": [
    "for data in result_get:\n",
    "    break"
   ]
  },
  {
   "cell_type": "code",
   "execution_count": 5,
   "metadata": {},
   "outputs": [],
   "source": [
    "bbox = data[0]\n",
    "flow = data[1]\n",
    "ego = data[2]"
   ]
  },
  {
   "cell_type": "code",
   "execution_count": 7,
   "metadata": {},
   "outputs": [
    {
     "name": "stdout",
     "output_type": "stream",
     "text": [
      "torch.Size([32, 4, 16, 16])\n",
      "torch.Size([32, 2, 16, 16])\n",
      "torch.Size([32, 3, 16, 16])\n"
     ]
    }
   ],
   "source": [
    "print(bbox.shape)\n",
    "print(flow.shape)\n",
    "print(ego.shape)"
   ]
  },
  {
   "cell_type": "code",
   "execution_count": null,
   "metadata": {},
   "outputs": [],
   "source": []
  }
 ],
 "metadata": {
  "kernelspec": {
   "display_name": "etc",
   "language": "python",
   "name": "python3"
  },
  "language_info": {
   "codemirror_mode": {
    "name": "ipython",
    "version": 3
   },
   "file_extension": ".py",
   "mimetype": "text/x-python",
   "name": "python",
   "nbconvert_exporter": "python",
   "pygments_lexer": "ipython3",
   "version": "3.8.13"
  },
  "orig_nbformat": 4,
  "vscode": {
   "interpreter": {
    "hash": "d7eb1680bb147ac94cb4aa4715d7327236eefa05acb6cc510894634fb6dddd6e"
   }
  }
 },
 "nbformat": 4,
 "nbformat_minor": 2
}
