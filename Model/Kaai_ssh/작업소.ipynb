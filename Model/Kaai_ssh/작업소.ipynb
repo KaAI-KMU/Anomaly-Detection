{
 "cells": [
  {
   "cell_type": "code",
   "execution_count": 2,
   "metadata": {},
   "outputs": [],
   "source": [
    "import torch\n",
    "from torch import nn\n",
    "from config import config as cfg\n"
   ]
  },
  {
   "cell_type": "code",
   "execution_count": 122,
   "metadata": {},
   "outputs": [],
   "source": [
    "import torch\n",
    "from torch import nn\n",
    "from config import config as cfg\n",
    "import numpy as np\n",
    "\n",
    "class seperate_bbox_model(nn.Module):\n",
    "    \"\"\"Some Information about seperate_model\"\"\"\n",
    "    def __init__(self):\n",
    "        super(seperate_bbox_model, self).__init__()\n",
    "\n",
    "        self.bbox_encoder = seperate_model_bbox_encoder()\n",
    "        self.bbox_decoder = seperate_model_bbox_decoder()\n",
    "\n",
    "    def forward(self, bbox = None):\n",
    "\n",
    "\n",
    "        result_bbox = self.bbox_encoder(bbox)\n",
    "        result_bbox = self.bbox_decoder(result_bbox)\n",
    "        \n",
    "        #self.bbox_ratio, self.flow_ratio, self.ego_ratio = (self.bbox_ratio)/(self.bbox_ratio+self.flow_ratio+self.ego_ratio), (self.flow_ratio)/(self.bbox_ratio+self.flow_ratio+self.ego_ratio), (self.ego_ratio)/(self.bbox_ratio+self.flow_ratio+self.ego_ratio)\n",
    "        return result_bbox\n",
    "    \n",
    "class seperate_model_bbox_encoder(nn.Module):\n",
    "    \"\"\"Some Information about seperate_model_bbox_encoder\"\"\"\n",
    "    def __init__(self):\n",
    "        super(seperate_model_bbox_encoder, self).__init__()\n",
    "\n",
    "        self.layer = nn.Sequential(\n",
    "            nn.GRUCell(4, cfg.feature_space)\n",
    "        )\n",
    "\n",
    "    def forward(self, x, hidden_state = None): # (B, T, 4)\n",
    "        if hidden_state == None:\n",
    "            hidden_state = torch.randn(cfg.sequence, cfg.feature_space)\n",
    "        for index in range(x.shape[1]):\n",
    "            hidden_state = self.layer(x[:,index, :])\n",
    "        return hidden_state\n",
    "    \n",
    "class seperate_model_bbox_decoder(nn.Module):\n",
    "    \"\"\"Some Information about seperate_model_bbox_encoder\"\"\"\n",
    "    def __init__(self):\n",
    "        super(seperate_model_bbox_decoder, self).__init__()\n",
    "\n",
    "        self.layer = nn.Sequential(\n",
    "            nn.Linear(cfg.feature_space, 128),\n",
    "            nn.ReLU(),\n",
    "            nn.Linear(128, 4),\n",
    "            nn.Sigmoid()\n",
    "        )\n",
    "\n",
    "    def forward(self, x):\n",
    "        return self.layer(x)\n",
    "    \n",
    "###############################################################\n",
    "    \n",
    "class seperate_flow_model(nn.Module):\n",
    "    \"\"\"Some Information about seperate_model\"\"\"\n",
    "    def __init__(self):\n",
    "        super(seperate_flow_model, self).__init__()\n",
    "        self.flow_encoder = seperate_model_flow_encoder()\n",
    "        self.flow_decoder = seperate_model_flow_decoder()\n",
    "\n",
    "    def forward(self, flow = None):\n",
    "\n",
    "        result_flow = self.flow_encoder(flow)\n",
    "        result_flow = self.flow_decoder(result_flow)\n",
    "\n",
    "        return result_flow\n",
    "        #self.bbox_ratio, self.flow_ratio, self.ego_ratio = (self.bbox_ratio)/(self.bbox_ratio+self.flow_ratio+self.ego_ratio), (self.flow_ratio)/(self.bbox_ratio+self.flow_ratio+self.ego_ratio), (self.ego_ratio)/(self.bbox_ratio+self.flow_ratio+self.ego_ratio)\n",
    "\n",
    "class seperate_model_flow_encoder(nn.Module):\n",
    "    \"\"\"Some Information about seperate_model_flow_encoder\"\"\"\n",
    "    def __init__(self):\n",
    "        super(seperate_model_flow_encoder, self).__init__()\n",
    "\n",
    "        self.layer = nn.Sequential(\n",
    "            nn.GRUCell(2, cfg.feature_space)\n",
    "        )\n",
    "    def forward(self, x, hidden_state = None):\n",
    "        if hidden_state == None:\n",
    "            hidden_state = torch.randn(cfg.sequence, cfg.feature_space)\n",
    "        for index in range(x.shape[1]):\n",
    "            hidden_state = self.layer(x[:,index, :])\n",
    "        return hidden_state\n",
    "    \n",
    "class seperate_model_flow_decoder(nn.Module):\n",
    "    \"\"\"Some Information about seperate_model_flow_encoder\"\"\"\n",
    "    def __init__(self):\n",
    "        super(seperate_model_flow_decoder, self).__init__()\n",
    "\n",
    "        self.layer = nn.Sequential(\n",
    "            nn.Linear(cfg.feature_space, 128),\n",
    "            nn.ReLU(),\n",
    "            nn.Linear(128, 2),\n",
    "            nn.Tanh(),\n",
    "            nn.Linear(2,2)\n",
    "        )\n",
    "\n",
    "    def forward(self, x):\n",
    "        return self.layer(x)\n",
    "    \n",
    "##################################################################################\n",
    "\n",
    "        return result_flow\n",
    "class seperate_ego_model(nn.Module):\n",
    "    \"\"\"Some Information about seperate_model\"\"\"\n",
    "    def __init__(self):\n",
    "        super(seperate_ego_model, self).__init__()\n",
    "\n",
    "        self.ego_encoder = seperate_model_ego_encoder()\n",
    "        self.ego_decoder = seperate_model_ego_decoder()\n",
    "\n",
    "\n",
    "    def forward(self, ego = None):\n",
    "\n",
    "        result_ego = self.ego_encoder(ego)\n",
    "        result_ego = self.ego_decoder(result_ego)\n",
    "        \n",
    "        #self.bbox_ratio, self.flow_ratio, self.ego_ratio = (self.bbox_ratio)/(self.bbox_ratio+self.flow_ratio+self.ego_ratio), (self.flow_ratio)/(self.bbox_ratio+self.flow_ratio+self.ego_ratio), (self.ego_ratio)/(self.bbox_ratio+self.flow_ratio+self.ego_ratio)\n",
    "\n",
    "        return result_ego\n",
    "    \n",
    "class seperate_model_ego_encoder(nn.Module):\n",
    "    \"\"\"Some Information about seperate_model_ego_encoder\"\"\"\n",
    "    def __init__(self):\n",
    "        super(seperate_model_ego_encoder, self).__init__()\n",
    "        self.layer = nn.Sequential(\n",
    "            nn.GRUCell(3, cfg.feature_space)\n",
    "        )\n",
    "    def forward(self, x, hidden_state = None):\n",
    "        if hidden_state == None:\n",
    "            hidden_state = torch.randn(cfg.sequence, cfg.feature_space)\n",
    "        for index in range(x.shape[1]):\n",
    "            hidden_state = self.layer(x[:,index, :])\n",
    "        return hidden_state\n",
    "    \n",
    "class seperate_model_ego_decoder(nn.Module):\n",
    "    \"\"\"Some Information about seperate_model_ego_encoder\"\"\"\n",
    "    def __init__(self):\n",
    "        super(seperate_model_ego_decoder, self).__init__()\n",
    "        self.layer = nn.Sequential(\n",
    "            nn.Linear(cfg.feature_space, 128),\n",
    "            nn.ReLU(),\n",
    "            nn.Linear(128, 3),\n",
    "            nn.Tanh()\n",
    "        )\n",
    "\n",
    "        self.pi = np.pi\n",
    "    def forward(self, x):\n",
    "        return self.pi * self.layer(x)"
   ]
  },
  {
   "cell_type": "code",
   "execution_count": 125,
   "metadata": {},
   "outputs": [],
   "source": [
    "model = seperate_ego_model()"
   ]
  },
  {
   "cell_type": "code",
   "execution_count": 126,
   "metadata": {},
   "outputs": [
    {
     "name": "stdout",
     "output_type": "stream",
     "text": [
      "torch.Size([64, 3])\n"
     ]
    }
   ],
   "source": [
    "test_bbox = torch.randn((64, 16, 4))\n",
    "#test_bbox = None\n",
    "test_flow = torch.randn((64, 16, 2))\n",
    "#test_flow = None\n",
    "test_ego = torch.randn((64, 16, 3))\n",
    "#test_ego = None\n",
    "\n",
    "\n",
    "result = model(test_ego)\n",
    "print(result.shape)"
   ]
  },
  {
   "cell_type": "code",
   "execution_count": 110,
   "metadata": {},
   "outputs": [
    {
     "name": "stdout",
     "output_type": "stream",
     "text": [
      "torch.Size([64, 2])\n"
     ]
    }
   ],
   "source": [
    "print(r_e.shape)"
   ]
  },
  {
   "cell_type": "code",
   "execution_count": 55,
   "metadata": {},
   "outputs": [],
   "source": [
    "import numpy as np\n",
    "import matplotlib.pyplot as plt"
   ]
  },
  {
   "cell_type": "code",
   "execution_count": 10,
   "metadata": {},
   "outputs": [],
   "source": [
    "test_number = np.arange(-1 * np.pi, np.pi, 0.001)"
   ]
  },
  {
   "cell_type": "code",
   "execution_count": 13,
   "metadata": {},
   "outputs": [
    {
     "ename": "TypeError",
     "evalue": "arctan2() takes from 2 to 3 positional arguments but 1 were given",
     "output_type": "error",
     "traceback": [
      "\u001b[1;31m---------------------------------------------------------------------------\u001b[0m",
      "\u001b[1;31mTypeError\u001b[0m                                 Traceback (most recent call last)",
      "Cell \u001b[1;32mIn [13], line 2\u001b[0m\n\u001b[0;32m      1\u001b[0m \u001b[39mfor\u001b[39;00m instance \u001b[39min\u001b[39;00m test_number:\n\u001b[1;32m----> 2\u001b[0m     plt\u001b[39m.\u001b[39mplot(instance, np\u001b[39m.\u001b[39;49marctan2(instance))\n\u001b[0;32m      3\u001b[0m plt\u001b[39m.\u001b[39mshow()\n",
      "\u001b[1;31mTypeError\u001b[0m: arctan2() takes from 2 to 3 positional arguments but 1 were given"
     ]
    }
   ],
   "source": [
    "for instance in test_number:\n",
    "    plt.plot(instance, np.arctan2(instance))\n",
    "plt.show()"
   ]
  },
  {
   "cell_type": "code",
   "execution_count": 1,
   "metadata": {},
   "outputs": [],
   "source": [
    "from networks import seperate_autoencoder_model as sam"
   ]
  },
  {
   "cell_type": "code",
   "execution_count": 6,
   "metadata": {},
   "outputs": [],
   "source": [
    "flow_model = sam.flow_model()\n",
    "bbox_model = sam.bbox_model()\n",
    "ego_model = sam.ego_model()\n",
    "\n",
    "base_model = sam.model()"
   ]
  },
  {
   "cell_type": "code",
   "execution_count": 20,
   "metadata": {},
   "outputs": [
    {
     "name": "stdout",
     "output_type": "stream",
     "text": [
      "odict_keys(['flow_encoder.layer.0.weight_ih', 'flow_encoder.layer.0.weight_hh', 'flow_encoder.layer.0.bias_ih', 'flow_encoder.layer.0.bias_hh', 'flow_decoder.layer.0.weight', 'flow_decoder.layer.0.bias', 'flow_decoder.layer.2.weight', 'flow_decoder.layer.2.bias', 'flow_decoder.layer.4.weight', 'flow_decoder.layer.4.bias'])\n"
     ]
    }
   ],
   "source": [
    "base_dict = base_model.state_dict()\n",
    "\n",
    "flow_dict = flow_model.state_dict()\n",
    "bbox_dict = bbox_model.state_dict()\n",
    "ego_dict = ego_model.state_dict()\n",
    "\n",
    "print(flow_dict.keys())"
   ]
  },
  {
   "cell_type": "code",
   "execution_count": 21,
   "metadata": {},
   "outputs": [],
   "source": [
    "flow_dict = {k: v for k, v in flow_dict.items() if k in base_dict}\n",
    "bbox_dict = {k: v for k, v in bbox_dict.items() if k in base_dict}\n",
    "ego_dict = {k: v for k, v in ego_dict.items() if k in base_dict}"
   ]
  },
  {
   "cell_type": "code",
   "execution_count": 18,
   "metadata": {},
   "outputs": [
    {
     "data": {
      "text/plain": [
       "tensor([[ 0.0418,  0.0403, -0.0074, -0.0216],\n",
       "        [ 0.0199,  0.0209, -0.0180,  0.0058],\n",
       "        [-0.0315, -0.0130,  0.0020,  0.0108],\n",
       "        ...,\n",
       "        [-0.0258, -0.0141, -0.0061, -0.0348],\n",
       "        [ 0.0327,  0.0022, -0.0162, -0.0335],\n",
       "        [ 0.0299,  0.0206,  0.0011,  0.0027]])"
      ]
     },
     "execution_count": 18,
     "metadata": {},
     "output_type": "execute_result"
    }
   ],
   "source": [
    "base_dict['bbox_encoder.layer.0.weight_ih']"
   ]
  },
  {
   "cell_type": "markdown",
   "metadata": {},
   "source": []
  },
  {
   "cell_type": "code",
   "execution_count": 24,
   "metadata": {},
   "outputs": [],
   "source": [
    "base_dict.update(flow_dict)\n",
    "base_dict.update(bbox_dict)\n",
    "base_dict.update(ego_dict)"
   ]
  },
  {
   "cell_type": "code",
   "execution_count": 25,
   "metadata": {},
   "outputs": [
    {
     "data": {
      "text/plain": [
       "tensor([[-0.0150, -0.0079, -0.0359, -0.0277],\n",
       "        [-0.0166, -0.0282,  0.0420,  0.0044],\n",
       "        [ 0.0300,  0.0050, -0.0034,  0.0384],\n",
       "        ...,\n",
       "        [ 0.0372,  0.0333, -0.0285,  0.0290],\n",
       "        [ 0.0342, -0.0418, -0.0048,  0.0441],\n",
       "        [ 0.0207, -0.0098, -0.0426, -0.0423]])"
      ]
     },
     "execution_count": 25,
     "metadata": {},
     "output_type": "execute_result"
    }
   ],
   "source": [
    "base_dict['bbox_encoder.layer.0.weight_ih']"
   ]
  },
  {
   "cell_type": "code",
   "execution_count": 26,
   "metadata": {},
   "outputs": [
    {
     "data": {
      "text/plain": [
       "<All keys matched successfully>"
      ]
     },
     "execution_count": 26,
     "metadata": {},
     "output_type": "execute_result"
    }
   ],
   "source": [
    "base_model.load_state_dict(base_dict)"
   ]
  },
  {
   "cell_type": "code",
   "execution_count": 27,
   "metadata": {},
   "outputs": [
    {
     "data": {
      "text/plain": [
       "tensor([[-0.0150, -0.0079, -0.0359, -0.0277],\n",
       "        [-0.0166, -0.0282,  0.0420,  0.0044],\n",
       "        [ 0.0300,  0.0050, -0.0034,  0.0384],\n",
       "        ...,\n",
       "        [ 0.0372,  0.0333, -0.0285,  0.0290],\n",
       "        [ 0.0342, -0.0418, -0.0048,  0.0441],\n",
       "        [ 0.0207, -0.0098, -0.0426, -0.0423]])"
      ]
     },
     "execution_count": 27,
     "metadata": {},
     "output_type": "execute_result"
    }
   ],
   "source": [
    "bbox_dict['bbox_encoder.layer.0.weight_ih']"
   ]
  },
  {
   "cell_type": "code",
   "execution_count": 31,
   "metadata": {},
   "outputs": [],
   "source": [
    "import torch\n",
    "from torch import nn"
   ]
  },
  {
   "cell_type": "code",
   "execution_count": 41,
   "metadata": {},
   "outputs": [
    {
     "name": "stdout",
     "output_type": "stream",
     "text": [
      "torch.Size([50, 50])\n"
     ]
    },
    {
     "ename": "RuntimeError",
     "evalue": "Expected tensor for argument #1 'indices' to have one of the following scalar types: Long, Int; but got torch.FloatTensor instead (while checking arguments for embedding)",
     "output_type": "error",
     "traceback": [
      "\u001b[1;31m---------------------------------------------------------------------------\u001b[0m",
      "\u001b[1;31mRuntimeError\u001b[0m                              Traceback (most recent call last)",
      "Cell \u001b[1;32mIn [41], line 6\u001b[0m\n\u001b[0;32m      4\u001b[0m \u001b[39minput\u001b[39m \u001b[39m=\u001b[39m torch\u001b[39m.\u001b[39mrandn(\u001b[39m50\u001b[39m,\u001b[39m50\u001b[39m)\n\u001b[0;32m      5\u001b[0m \u001b[39mprint\u001b[39m(\u001b[39minput\u001b[39m\u001b[39m.\u001b[39mshape)\n\u001b[1;32m----> 6\u001b[0m \u001b[39mprint\u001b[39m(embedding(\u001b[39minput\u001b[39;49m)\u001b[39m.\u001b[39mshape)\n",
      "File \u001b[1;32mc:\\Users\\KaAI\\anaconda3\\envs\\etc\\lib\\site-packages\\torch\\nn\\modules\\module.py:1190\u001b[0m, in \u001b[0;36mModule._call_impl\u001b[1;34m(self, *input, **kwargs)\u001b[0m\n\u001b[0;32m   1186\u001b[0m \u001b[39m# If we don't have any hooks, we want to skip the rest of the logic in\u001b[39;00m\n\u001b[0;32m   1187\u001b[0m \u001b[39m# this function, and just call forward.\u001b[39;00m\n\u001b[0;32m   1188\u001b[0m \u001b[39mif\u001b[39;00m \u001b[39mnot\u001b[39;00m (\u001b[39mself\u001b[39m\u001b[39m.\u001b[39m_backward_hooks \u001b[39mor\u001b[39;00m \u001b[39mself\u001b[39m\u001b[39m.\u001b[39m_forward_hooks \u001b[39mor\u001b[39;00m \u001b[39mself\u001b[39m\u001b[39m.\u001b[39m_forward_pre_hooks \u001b[39mor\u001b[39;00m _global_backward_hooks\n\u001b[0;32m   1189\u001b[0m         \u001b[39mor\u001b[39;00m _global_forward_hooks \u001b[39mor\u001b[39;00m _global_forward_pre_hooks):\n\u001b[1;32m-> 1190\u001b[0m     \u001b[39mreturn\u001b[39;00m forward_call(\u001b[39m*\u001b[39;49m\u001b[39minput\u001b[39;49m, \u001b[39m*\u001b[39;49m\u001b[39m*\u001b[39;49mkwargs)\n\u001b[0;32m   1191\u001b[0m \u001b[39m# Do not call functions when jit is used\u001b[39;00m\n\u001b[0;32m   1192\u001b[0m full_backward_hooks, non_full_backward_hooks \u001b[39m=\u001b[39m [], []\n",
      "File \u001b[1;32mc:\\Users\\KaAI\\anaconda3\\envs\\etc\\lib\\site-packages\\torch\\nn\\modules\\sparse.py:160\u001b[0m, in \u001b[0;36mEmbedding.forward\u001b[1;34m(self, input)\u001b[0m\n\u001b[0;32m    159\u001b[0m \u001b[39mdef\u001b[39;00m \u001b[39mforward\u001b[39m(\u001b[39mself\u001b[39m, \u001b[39minput\u001b[39m: Tensor) \u001b[39m-\u001b[39m\u001b[39m>\u001b[39m Tensor:\n\u001b[1;32m--> 160\u001b[0m     \u001b[39mreturn\u001b[39;00m F\u001b[39m.\u001b[39;49membedding(\n\u001b[0;32m    161\u001b[0m         \u001b[39minput\u001b[39;49m, \u001b[39mself\u001b[39;49m\u001b[39m.\u001b[39;49mweight, \u001b[39mself\u001b[39;49m\u001b[39m.\u001b[39;49mpadding_idx, \u001b[39mself\u001b[39;49m\u001b[39m.\u001b[39;49mmax_norm,\n\u001b[0;32m    162\u001b[0m         \u001b[39mself\u001b[39;49m\u001b[39m.\u001b[39;49mnorm_type, \u001b[39mself\u001b[39;49m\u001b[39m.\u001b[39;49mscale_grad_by_freq, \u001b[39mself\u001b[39;49m\u001b[39m.\u001b[39;49msparse)\n",
      "File \u001b[1;32mc:\\Users\\KaAI\\anaconda3\\envs\\etc\\lib\\site-packages\\torch\\nn\\functional.py:2210\u001b[0m, in \u001b[0;36membedding\u001b[1;34m(input, weight, padding_idx, max_norm, norm_type, scale_grad_by_freq, sparse)\u001b[0m\n\u001b[0;32m   2204\u001b[0m     \u001b[39m# Note [embedding_renorm set_grad_enabled]\u001b[39;00m\n\u001b[0;32m   2205\u001b[0m     \u001b[39m# XXX: equivalent to\u001b[39;00m\n\u001b[0;32m   2206\u001b[0m     \u001b[39m# with torch.no_grad():\u001b[39;00m\n\u001b[0;32m   2207\u001b[0m     \u001b[39m#   torch.embedding_renorm_\u001b[39;00m\n\u001b[0;32m   2208\u001b[0m     \u001b[39m# remove once script supports set_grad_enabled\u001b[39;00m\n\u001b[0;32m   2209\u001b[0m     _no_grad_embedding_renorm_(weight, \u001b[39minput\u001b[39m, max_norm, norm_type)\n\u001b[1;32m-> 2210\u001b[0m \u001b[39mreturn\u001b[39;00m torch\u001b[39m.\u001b[39;49membedding(weight, \u001b[39minput\u001b[39;49m, padding_idx, scale_grad_by_freq, sparse)\n",
      "\u001b[1;31mRuntimeError\u001b[0m: Expected tensor for argument #1 'indices' to have one of the following scalar types: Long, Int; but got torch.FloatTensor instead (while checking arguments for embedding)"
     ]
    }
   ],
   "source": [
    "embedding = nn.Embedding(10, 3)\n",
    "\n",
    "# [1, 2, 4, 5], [4, 3, 2, 9]에 대한 임베딩 값 구하기\n",
    "input = torch.randn(50,50, dtype = torch.int)\n",
    "print(input.shape)\n",
    "print(embedding(input).shape)"
   ]
  },
  {
   "cell_type": "code",
   "execution_count": null,
   "metadata": {},
   "outputs": [
    {
     "data": {
      "text/plain": [
       "torch.Size([10, 32, 512])"
      ]
     },
     "execution_count": 33,
     "metadata": {},
     "output_type": "execute_result"
    }
   ],
   "source": [
    "out.shape"
   ]
  },
  {
   "cell_type": "code",
   "execution_count": 43,
   "metadata": {},
   "outputs": [],
   "source": [
    "import networks.seperate_autoencoder_model as sam"
   ]
  },
  {
   "cell_type": "code",
   "execution_count": 44,
   "metadata": {},
   "outputs": [],
   "source": [
    "a = sam.model()"
   ]
  },
  {
   "cell_type": "code",
   "execution_count": 45,
   "metadata": {},
   "outputs": [],
   "source": [
    "def get_n_params(model):\n",
    "    pp=0\n",
    "    for p in list(model.parameters()):\n",
    "        nn=1\n",
    "        for s in list(p.size()):\n",
    "            nn = nn*s\n",
    "        pp += nn\n",
    "    return pp"
   ]
  },
  {
   "cell_type": "code",
   "execution_count": 52,
   "metadata": {},
   "outputs": [
    {
     "data": {
      "text/plain": [
       "2382336"
      ]
     },
     "execution_count": 52,
     "metadata": {},
     "output_type": "execute_result"
    }
   ],
   "source": [
    "a = sam.model()\n",
    "\n",
    "get_n_params(a)"
   ]
  },
  {
   "cell_type": "code",
   "execution_count": 53,
   "metadata": {},
   "outputs": [
    {
     "data": {
      "text/plain": [
       "<bound method Module.parameters of model(\n",
       "  (bbox_encoder): model_bbox_encoder(\n",
       "    (layer): Sequential(\n",
       "      (0): GRUCell(4, 512)\n",
       "    )\n",
       "  )\n",
       "  (flow_encoder): model_flow_encoder(\n",
       "    (layer): Sequential(\n",
       "      (0): GRUCell(2, 512)\n",
       "    )\n",
       "  )\n",
       "  (ego_encoder): model_ego_encoder(\n",
       "    (layer): Sequential(\n",
       "      (0): GRUCell(3, 512)\n",
       "    )\n",
       "  )\n",
       ")>"
      ]
     },
     "execution_count": 53,
     "metadata": {},
     "output_type": "execute_result"
    }
   ],
   "source": [
    "a.parameters"
   ]
  },
  {
   "cell_type": "code",
   "execution_count": 66,
   "metadata": {},
   "outputs": [],
   "source": [
    "a = torch.randn((3,3))"
   ]
  },
  {
   "cell_type": "code",
   "execution_count": 60,
   "metadata": {},
   "outputs": [
    {
     "name": "stdout",
     "output_type": "stream",
     "text": [
      "tensor([[-0., 0., -0.],\n",
      "        [0., -0., -0.],\n",
      "        [-0., -0., -0.]])\n"
     ]
    }
   ],
   "source": [
    "print(a*0)"
   ]
  },
  {
   "cell_type": "code",
   "execution_count": 61,
   "metadata": {},
   "outputs": [
    {
     "name": "stdout",
     "output_type": "stream",
     "text": [
      "cpu\n"
     ]
    }
   ],
   "source": [
    "a = torch.zeros((3,3))\n",
    "print(a.device)"
   ]
  },
  {
   "cell_type": "code",
   "execution_count": 64,
   "metadata": {},
   "outputs": [
    {
     "name": "stdout",
     "output_type": "stream",
     "text": [
      "cuda:0\n"
     ]
    }
   ],
   "source": [
    "a = a.to('cuda')\n",
    "print(a.device)"
   ]
  },
  {
   "cell_type": "code",
   "execution_count": 67,
   "metadata": {},
   "outputs": [
    {
     "name": "stdout",
     "output_type": "stream",
     "text": [
      "tensor([[-1.2846, -0.1635, -0.1551],\n",
      "        [ 0.1182, -1.0292,  0.3110],\n",
      "        [-0.3013, -0.1529, -1.1527]])\n"
     ]
    }
   ],
   "source": [
    "print(a)"
   ]
  },
  {
   "cell_type": "code",
   "execution_count": 68,
   "metadata": {},
   "outputs": [
    {
     "name": "stdout",
     "output_type": "stream",
     "text": [
      "tensor([[-2.5692, -0.3271, -0.3101],\n",
      "        [ 0.2364, -2.0584,  0.6221],\n",
      "        [-0.6026, -0.3058, -2.3054]])\n"
     ]
    }
   ],
   "source": [
    "print(a+a)"
   ]
  },
  {
   "cell_type": "code",
   "execution_count": 16,
   "metadata": {},
   "outputs": [],
   "source": [
    "import torch\n",
    "from utils.args import parse_args"
   ]
  },
  {
   "cell_type": "code",
   "execution_count": 21,
   "metadata": {},
   "outputs": [],
   "source": [
    "from config.model_config import * \n",
    "import os\n",
    "import numpy as np\n",
    "import pickle as pkl\n",
    "import glob\n",
    "import torch\n",
    "from torch.utils import data\n",
    "import json\n",
    "\n",
    "device = torch.device(\"cuda\" if torch.cuda.is_available() else \"cpu\")\n",
    "class PRETRAIN_DATASET(data.Dataset):\n",
    "    def __init__(self, args, phase):\n",
    "        '''\n",
    "        HEV-I dataset object. Contains bbox, flow and ego motion.\n",
    "        \n",
    "        Params:\n",
    "            args: arguments passed from main file\n",
    "            phase: 'train' or 'val'\n",
    "        '''\n",
    "        self.args = args\n",
    "        self.data_root = os.path.join(self.args['data_root'], phase)\n",
    "        self.video_name = os.listdir(self.data_root)\n",
    "        \n",
    "        self.sessions = glob.glob(os.path.join(self.data_root,'*'))\n",
    "\n",
    "        self.all_inputs = []\n",
    "        for name in self.video_name:\n",
    "            # for each car in dataset, we split to several trainig samples\n",
    "            \n",
    "            #load data and label\n",
    "            data_path = os.path.join(self.data_root, name)\n",
    "            try:\n",
    "                label_path = os.path.join(self.label_root, name + '.json')\n",
    "                label = json.load(open(label_path, 'rb'))\n",
    "                labels = label[\"labels\"] #[frame]['accident_id']\n",
    "            except:\n",
    "                labels = None\n",
    "            data = pkl.load(open(data_path, 'rb'))\n",
    "            \n",
    "            bbox = data['bbox']\n",
    "            flow = data['flow']\n",
    "            ego_motion = data['ego_motion']# [yaw, x, z]\n",
    "            \n",
    "            # frame_id = data['frame_id']\n",
    "\n",
    "            # go farwad along the session to get data samples\n",
    "            seed = np.random.randint(self.args['seed_max'])\n",
    "            for start in range(seed, len(flow), int(self.args['segment_len']/2)):\n",
    "\n",
    "                end = start + self.args['segment_len']\n",
    "                if end + self.args['pred_timesteps'] <= len(bbox) and end <= len(flow):\n",
    "                    input_bbox = bbox[start:end,:]\n",
    "                    input_flow = flow[start:end,:,:,:]\n",
    "                    input_ego_motion = self.get_input(ego_motion, start, end)\n",
    "                    \n",
    "                    target_bbox = self.get_target(bbox, start, end)\n",
    "                    target_flow = self.get_target(flow, start, end)\n",
    "                    target_ego_motion = self.get_target(ego_motion, start, end)\n",
    "                    \n",
    "                    # target_ego_motion = self.get_target(ego_motion_session, ego_start, ego_end)\n",
    "                    # if input_flow.shape[0] != 16:\n",
    "                    #     print(flow.shape)\n",
    "                    #     print(bbox.shape)\n",
    "                    #     print(input_flow.shape)\n",
    "                    #     print(\"start: {} end:{} length:{}\".format(start, end, self.args.segment_len))\n",
    "                    \n",
    "                    self.all_inputs.append([input_bbox, input_flow, input_ego_motion, target_bbox, target_flow, target_ego_motion])\n",
    "            \n",
    "            # go backward along the session to get data samples again\n",
    "            seed = np.random.randint(self.args['seed_max'])\n",
    "            for end in range(min([len(bbox)-self.args['pred_timesteps'], len(flow)]), \n",
    "                             seed, \n",
    "                             -self.args['segment_len']):\n",
    "\n",
    "                start = end - self.args['segment_len']\n",
    "                if start >= 0:\n",
    "                    input_bbox = bbox[start:end,:]\n",
    "                    input_flow = flow[start:end,:,:,:]\n",
    "                    input_ego_motion = self.get_input(ego_motion, start, end)\n",
    "\n",
    "                    target_flow = self.get_target(flow, start, end)\n",
    "                    target_bbox = self.get_target(bbox, start, end)\n",
    "                    target_ego_motion = self.get_target(ego_motion, start, end)\n",
    "                    \n",
    "                    # if input_flow.shape[0] != 16:\n",
    "                    #     print(flow.shape)\n",
    "                    #     print(bbox.shape)\n",
    "                    #     print(input_flow.shape)\n",
    "                    #     print(\"start: {} end:{} length:{}\".format(start, end, self.args.segment_len))\n",
    "                    self.all_inputs.append([input_bbox, input_flow, input_ego_motion, target_bbox, target_flow, target_ego_motion])\n",
    "\n",
    "    def get_input(self, ego_motion_session, start, end):\n",
    "        '''\n",
    "        The input to a ego motion prediction model at time t is \n",
    "            its difference from the previous step: X_t - x_{t-1}\n",
    "        '''\n",
    "        return torch.as_tensor(ego_motion_session[start:end, :], dtype = torch.float32)\n",
    "\n",
    "    def get_target(self, session, _, end):\n",
    "        '''\n",
    "        Given the input session and the start and end time of the input clip, find the target\n",
    "        TARGET FOR PREDICTION IS THE CHANGES IN THE FUTURE!!\n",
    "        Params:\n",
    "            session: the input time sequence of a car, can be bbox or ego_motion with shape (time, :)\n",
    "            start: start frame id \n",
    "            end: end frame id\n",
    "        Returns:\n",
    "            target: Target tensor with shape (self.args.segment_len, pred_timesteps, :)\n",
    "                    The target is the change of the values. e.g. target of yaw is \\delta{\\theta}_{t0,tn} \n",
    "        ''' \n",
    "        #target = torch.zeros(self.args['segment_len'], self.args['pred_timesteps'], session.shape[-1])\n",
    "        target = torch.as_tensor(session[end + 1,:], dtype=torch.float32)\n",
    "\n",
    "        #for i, target_start in enumerate(range(start, end)):\n",
    "        #    '''the target of time t is the change of bbox/ego motion at times [t+1,...,t+5}'''\n",
    "        #    target_start = target_start + 1\n",
    "        #    try:\n",
    "        #        target[i,:,:] = torch.as_tensor(session[target_start:target_start+self.args['pred_timesteps'],:] - \n",
    "        #                                    session[target_start-1:target_start,:])\n",
    "        #    except:\n",
    "        #        print(\"segment start: \", start)\n",
    "        #        print(\"sample start: \", target_start)\n",
    "        #        print(\"segment end: \", end)\n",
    "        #        print(session.shape)\n",
    "        #        raise ValueError()\n",
    "        return target\n",
    "\n",
    "    def __len__(self):\n",
    "        return len(self.all_inputs)\n",
    "    \n",
    "    def __getitem__(self, index):\n",
    "        input_bbox, input_flow, input_ego_motion, target_bbox, target_flow, target_ego_motion= self.all_inputs[index]\n",
    "        input_bbox = torch.FloatTensor(input_bbox).to(device)\n",
    "        input_flow = torch.FloatTensor(input_flow).to(device)\n",
    "        input_ego_motion = torch.FloatTensor(input_ego_motion).to(device)\n",
    "\n",
    "        target_bbox = torch.FloatTensor(target_bbox).to(device)\n",
    "        target_flow = torch.FloatTensor(target_flow).to(device)\n",
    "        target_ego_motion = torch.FloatTensor(target_ego_motion).to(device)\n",
    "\n",
    "        return input_bbox, input_flow, input_ego_motion, target_bbox, target_flow, target_ego_motion"
   ]
  },
  {
   "cell_type": "code",
   "execution_count": 19,
   "metadata": {},
   "outputs": [],
   "source": [
    "args = parse_args()\n",
    "dataloader_params ={\n",
    "\"batch_size\": args['batch_size'],\n",
    "\"shuffle\": args['shuffle'],\n",
    "\"num_workers\": args['num_workers']\n",
    "}"
   ]
  },
  {
   "cell_type": "code",
   "execution_count": 22,
   "metadata": {},
   "outputs": [],
   "source": [
    "val_dataset = PRETRAIN_DATASET(args, 'val')\n",
    "val_gen = torch.utils.data.DataLoader(val_dataset, **dataloader_params)"
   ]
  },
  {
   "cell_type": "code",
   "execution_count": 30,
   "metadata": {},
   "outputs": [],
   "source": [
    "for data in val_gen:\n",
    "    break"
   ]
  },
  {
   "cell_type": "code",
   "execution_count": 31,
   "metadata": {},
   "outputs": [
    {
     "name": "stdout",
     "output_type": "stream",
     "text": [
      "torch.Size([32, 16, 4])\n",
      "torch.Size([32, 16, 5, 5, 2])\n",
      "torch.Size([32, 16, 3])\n",
      "torch.Size([32, 4])\n",
      "torch.Size([32, 5, 5, 2])\n",
      "torch.Size([32, 3])\n"
     ]
    }
   ],
   "source": [
    "for i in range(6):\n",
    "    print(data[i].shape)"
   ]
  },
  {
   "cell_type": "code",
   "execution_count": 32,
   "metadata": {},
   "outputs": [],
   "source": [
    "import pickle as pkl\n",
    "import numpy as np\n",
    "import matplotlib.pyplot as plt"
   ]
  },
  {
   "cell_type": "code",
   "execution_count": 33,
   "metadata": {},
   "outputs": [],
   "source": [
    "def rec_plot(s, eps=None, steps = None):\n",
    "    if eps == None: eps = 0.01\n",
    "    if steps == None: steps = 255\n",
    "\n",
    "    N = s.size\n",
    "    S = np.repeat(s[None,:], N, axis = 0)\n",
    "    Z = np.floor(np.abs(S-S.T)/eps)\n",
    "    Z[Z>steps] = steps\n",
    "    \n",
    "    return Z"
   ]
  },
  {
   "cell_type": "code",
   "execution_count": 27,
   "metadata": {},
   "outputs": [],
   "source": [
    "path = 'media/DATA/HEVI_dataset/fol_data/train/201806061148004336_7.pkl'\n",
    "\n",
    "data = pkl.load(open(path, 'rb'))\n",
    "\n",
    "bbox = data['bbox']\n",
    "flow = data['flow']\n",
    "ego = data['ego_motion']"
   ]
  },
  {
   "cell_type": "code",
   "execution_count": 5,
   "metadata": {},
   "outputs": [
    {
     "data": {
      "image/png": "[encoded data removed]",
      "text/plain": [
       "<Figure size 640x480 with 1 Axes>"
      ]
     },
     "metadata": {},
     "output_type": "display_data"
    },
    {
     "data": {
      "image/png": "[encoded data removed]",
      "text/plain": [
       "<Figure size 640x480 with 1 Axes>"
      ]
     },
     "metadata": {},
     "output_type": "display_data"
    },
    {
     "data": {
      "image/png": "[encoded data removed]",
      "text/plain": [
       "<Figure size 640x480 with 1 Axes>"
      ]
     },
     "metadata": {},
     "output_type": "display_data"
    }
   ],
   "source": [
    "#image = rec_plot(bbox[:,3])\n",
    "#plt.imshow(image)\n",
    "#plt.show()\n",
    "\n",
    "image = rec_plot(ego[:,2])\n",
    "plt.imshow(image)\n",
    "plt.show()\n",
    "\n",
    "image = rec_plot(ego[:,1])\n",
    "plt.imshow(image)\n",
    "plt.show()\n",
    "\n",
    "image = rec_plot(ego[:,0])\n",
    "plt.imshow(image)\n",
    "plt.show()"
   ]
  },
  {
   "cell_type": "code",
   "execution_count": 94,
   "metadata": {},
   "outputs": [
    {
     "name": "stdout",
     "output_type": "stream",
     "text": [
      "[-0.86127612 -0.29114358 -0.69851473  1.18998442 -2.10026378 -2.35970498\n",
      " -0.15018047 -1.15805023  0.64781393  2.37550186 -0.71119023 -0.01455462\n",
      " -0.42583867 -0.22884695 -0.15821656 -1.58422682  1.43066436 -0.55903628\n",
      " -0.27202909  0.36406759]\n"
     ]
    }
   ],
   "source": [
    "test = np.random.randn(20)\n",
    "print(test)"
   ]
  },
  {
   "cell_type": "code",
   "execution_count": 95,
   "metadata": {},
   "outputs": [
    {
     "data": {
      "image/png": "[encoded data removed]",
      "text/plain": [
       "<Figure size 640x480 with 1 Axes>"
      ]
     },
     "metadata": {},
     "output_type": "display_data"
    }
   ],
   "source": [
    "image = rec_plot(test)\n",
    "plt.imshow(image)\n",
    "plt.show()"
   ]
  },
  {
   "cell_type": "code",
   "execution_count": 34,
   "metadata": {},
   "outputs": [
    {
     "data": {
      "text/plain": [
       "torch.Size([32, 16, 4])"
      ]
     },
     "execution_count": 34,
     "metadata": {},
     "output_type": "execute_result"
    }
   ],
   "source": [
    "data[0].shape"
   ]
  },
  {
   "cell_type": "code",
   "execution_count": null,
   "metadata": {},
   "outputs": [],
   "source": []
  },
  {
   "cell_type": "code",
   "execution_count": 35,
   "metadata": {},
   "outputs": [],
   "source": [
    "# data :: bbox(4), flow(2), ego(3)\n",
    "\n",
    "storage = torch.zeros((data[0].shape[0], data[0].shape[1], data[0].shape[1], 9)).to('cuda')"
   ]
  },
  {
   "cell_type": "code",
   "execution_count": 36,
   "metadata": {},
   "outputs": [],
   "source": [
    "from utils.recurrence import rec_plot"
   ]
  },
  {
   "cell_type": "code",
   "execution_count": 38,
   "metadata": {},
   "outputs": [],
   "source": [
    "for batch in range(data[0].shape[0]):\n",
    "    storage[batch, :, :, 0] = torch.tensor(rec_plot(data[0][batch, :, 0].to('cpu').numpy()), dtype= torch.float32)\n",
    "    storage[batch, :, :, 1] = torch.tensor(rec_plot(data[0][batch, :, 1].to('cpu').numpy()), dtype= torch.float32)\n",
    "    storage[batch, :, :, 2] = torch.tensor(rec_plot(data[0][batch, :, 2].to('cpu').numpy()), dtype= torch.float32)\n",
    "    storage[batch, :, :, 3] = torch.tensor(rec_plot(data[0][batch, :, 3].to('cpu').numpy()), dtype= torch.float32)\n",
    "\n",
    "    storage[batch, :, :, 4] = torch.tensor(rec_plot(data[1][batch, :, 5//2, 5//2, 0].to('cpu').numpy()), dtype= torch.float32)\n",
    "    storage[batch, :, :, 5] = torch.tensor(rec_plot(data[1][batch, :, 5//2, 5//2, 1].to('cpu').numpy()), dtype= torch.float32)\n",
    "\n",
    "    storage[batch, :, :, 6] = torch.tensor(rec_plot(data[2][batch, :, 0].to('cpu').numpy()), dtype= torch.float32)\n",
    "    storage[batch, :, :, 7] = torch.tensor(rec_plot(data[2][batch, :, 1].to('cpu').numpy()), dtype= torch.float32)\n",
    "    storage[batch, :, :, 8] = torch.tensor(rec_plot(data[2][batch, :, 2].to('cpu').numpy()), dtype= torch.float32)"
   ]
  },
  {
   "cell_type": "code",
   "execution_count": 39,
   "metadata": {},
   "outputs": [
    {
     "data": {
      "image/png": "[encoded data removed]",
      "text/plain": [
       "<Figure size 640x480 with 1 Axes>"
      ]
     },
     "metadata": {},
     "output_type": "display_data"
    },
    {
     "name": "stdout",
     "output_type": "stream",
     "text": [
      "tensor([0.8600, 0.8485, 0.8350, 0.8203, 0.8063, 0.7901, 0.7731, 0.7551, 0.7407,\n",
      "        0.7248, 0.7051, 0.6908, 0.6738, 0.6576, 0.6380, 0.6232],\n",
      "       device='cuda:0')\n"
     ]
    },
    {
     "data": {
      "image/png": "[encoded data removed]",
      "text/plain": [
       "<Figure size 640x480 with 1 Axes>"
      ]
     },
     "metadata": {},
     "output_type": "display_data"
    },
    {
     "name": "stdout",
     "output_type": "stream",
     "text": [
      "tensor([0.5809, 0.5821, 0.5819, 0.5828, 0.5842, 0.5857, 0.5868, 0.5882, 0.5902,\n",
      "        0.5914, 0.5924, 0.5937, 0.5936, 0.5956, 0.5969, 0.5988],\n",
      "       device='cuda:0')\n"
     ]
    },
    {
     "data": {
      "image/png": "[encoded data removed]",
      "text/plain": [
       "<Figure size 640x480 with 1 Axes>"
      ]
     },
     "metadata": {},
     "output_type": "display_data"
    },
    {
     "name": "stdout",
     "output_type": "stream",
     "text": [
      "tensor([0.1093, 0.1208, 0.1346, 0.1401, 0.1454, 0.1507, 0.1507, 0.1525, 0.1551,\n",
      "        0.1586, 0.1622, 0.1635, 0.1642, 0.1659, 0.1686, 0.1691],\n",
      "       device='cuda:0')\n"
     ]
    },
    {
     "data": {
      "image/png": "[encoded data removed]",
      "text/plain": [
       "<Figure size 640x480 with 1 Axes>"
      ]
     },
     "metadata": {},
     "output_type": "display_data"
    },
    {
     "name": "stdout",
     "output_type": "stream",
     "text": [
      "tensor([0.1245, 0.1272, 0.1308, 0.1303, 0.1295, 0.1297, 0.1304, 0.1309, 0.1307,\n",
      "        0.1329, 0.1358, 0.1375, 0.1401, 0.1418, 0.1454, 0.1473],\n",
      "       device='cuda:0')\n"
     ]
    },
    {
     "data": {
      "image/png": "[encoded data removed]",
      "text/plain": [
       "<Figure size 640x480 with 1 Axes>"
      ]
     },
     "metadata": {},
     "output_type": "display_data"
    },
    {
     "name": "stdout",
     "output_type": "stream",
     "text": [
      "tensor([-19.2001, -19.9614, -20.3309, -13.8691, -20.8335, -21.2450, -21.4530,\n",
      "        -14.1727, -21.3644, -22.2150, -14.3548, -21.9782, -22.2242, -22.6138,\n",
      "        -14.8953, -22.8101], device='cuda:0')\n"
     ]
    },
    {
     "data": {
      "image/png": "[encoded data removed]",
      "text/plain": [
       "<Figure size 640x480 with 1 Axes>"
      ]
     },
     "metadata": {},
     "output_type": "display_data"
    },
    {
     "name": "stdout",
     "output_type": "stream",
     "text": [
      "tensor([0.8147, 0.6996, 0.6768, 0.3720, 0.8619, 0.5011, 0.8395, 0.6226, 0.7270,\n",
      "        1.4578, 0.6866, 1.0117, 1.5611, 1.2984, 0.8098, 1.8699],\n",
      "       device='cuda:0')\n"
     ]
    },
    {
     "data": {
      "image/png": "[encoded data removed]",
      "text/plain": [
       "<Figure size 640x480 with 1 Axes>"
      ]
     },
     "metadata": {},
     "output_type": "display_data"
    },
    {
     "name": "stdout",
     "output_type": "stream",
     "text": [
      "tensor([0.0080, 0.0080, 0.0080, 0.0080, 0.0080, 0.0080, 0.0080, 0.0080, 0.0070,\n",
      "        0.0070, 0.0070, 0.0070, 0.0070, 0.0060, 0.0060, 0.0060],\n",
      "       device='cuda:0')\n"
     ]
    },
    {
     "data": {
      "image/png": "[encoded data removed]",
      "text/plain": [
       "<Figure size 640x480 with 1 Axes>"
      ]
     },
     "metadata": {},
     "output_type": "display_data"
    },
    {
     "name": "stdout",
     "output_type": "stream",
     "text": [
      "tensor([0.3120, 0.3120, 0.3120, 0.3120, 0.3120, 0.3120, 0.3120, 0.3120, 0.3120,\n",
      "        0.3110, 0.3110, 0.3100, 0.3100, 0.3100, 0.3090, 0.3090],\n",
      "       device='cuda:0')\n"
     ]
    },
    {
     "data": {
      "image/png": "[encoded data removed]",
      "text/plain": [
       "<Figure size 640x480 with 1 Axes>"
      ]
     },
     "metadata": {},
     "output_type": "display_data"
    },
    {
     "name": "stdout",
     "output_type": "stream",
     "text": [
      "tensor([0.7770, 0.7770, 0.7770, 0.7770, 0.7770, 0.7770, 0.7770, 0.7760, 0.7750,\n",
      "        0.7750, 0.7740, 0.7730, 0.7720, 0.7710, 0.7710, 0.7700],\n",
      "       device='cuda:0')\n"
     ]
    }
   ],
   "source": [
    "plt.imshow(storage[0,:,:,0].to('cpu'))\n",
    "plt.show()\n",
    "print(data[0][0,:,0])\n",
    "\n",
    "plt.imshow(storage[0,:,:,1].to('cpu'))\n",
    "plt.show()\n",
    "print(data[0][0,:,1])\n",
    "\n",
    "plt.imshow(storage[0,:,:,2].to('cpu'))\n",
    "plt.show()\n",
    "print(data[0][0,:,2])\n",
    "\n",
    "plt.imshow(storage[0,:,:,3].to('cpu'))\n",
    "plt.show()\n",
    "print(data[0][0,:,3])\n",
    "\n",
    "plt.imshow(storage[0,:,:,4].to('cpu'))\n",
    "plt.show()\n",
    "print(data[1][0,:,5//2, 5//2, 0])\n",
    "\n",
    "plt.imshow(storage[0,:,:,5].to('cpu'))\n",
    "plt.show()\n",
    "print(data[1][0,:,5//2, 5//2, 1])\n",
    "\n",
    "plt.imshow(storage[0,:,:,6].to('cpu'))\n",
    "plt.show()\n",
    "print(data[2][0,:,0])\n",
    "\n",
    "plt.imshow(storage[0,:,:,7].to('cpu'))\n",
    "plt.show()\n",
    "print(data[2][0,:,1])\n",
    "\n",
    "plt.imshow(storage[0,:,:,8].to('cpu'))\n",
    "plt.show()\n",
    "print(data[2][0,:,2])"
   ]
  },
  {
   "cell_type": "code",
   "execution_count": 154,
   "metadata": {},
   "outputs": [],
   "source": [
    "test = rec_plot(data[0][batch, :, 1].to('cpu').numpy())"
   ]
  },
  {
   "cell_type": "code",
   "execution_count": 155,
   "metadata": {},
   "outputs": [
    {
     "data": {
      "text/plain": [
       "array([[0., 0., 0., 0., 0., 0., 0., 0., 0., 0., 0., 0., 0., 0., 0., 0.],\n",
       "       [0., 0., 0., 0., 0., 0., 0., 0., 0., 0., 0., 0., 0., 0., 0., 0.],\n",
       "       [0., 0., 0., 0., 0., 0., 0., 0., 0., 0., 0., 0., 0., 0., 0., 0.],\n",
       "       [0., 0., 0., 0., 0., 0., 0., 0., 0., 0., 0., 0., 0., 0., 0., 0.],\n",
       "       [0., 0., 0., 0., 0., 0., 0., 0., 0., 0., 0., 0., 0., 0., 0., 0.],\n",
       "       [0., 0., 0., 0., 0., 0., 0., 0., 0., 0., 0., 0., 0., 0., 0., 0.],\n",
       "       [0., 0., 0., 0., 0., 0., 0., 0., 0., 0., 0., 0., 0., 0., 0., 0.],\n",
       "       [0., 0., 0., 0., 0., 0., 0., 0., 0., 0., 0., 0., 0., 0., 0., 0.],\n",
       "       [0., 0., 0., 0., 0., 0., 0., 0., 0., 0., 0., 0., 0., 0., 0., 0.],\n",
       "       [0., 0., 0., 0., 0., 0., 0., 0., 0., 0., 0., 0., 0., 0., 0., 0.],\n",
       "       [0., 0., 0., 0., 0., 0., 0., 0., 0., 0., 0., 0., 0., 0., 0., 0.],\n",
       "       [0., 0., 0., 0., 0., 0., 0., 0., 0., 0., 0., 0., 0., 0., 0., 0.],\n",
       "       [0., 0., 0., 0., 0., 0., 0., 0., 0., 0., 0., 0., 0., 0., 0., 0.],\n",
       "       [0., 0., 0., 0., 0., 0., 0., 0., 0., 0., 0., 0., 0., 0., 0., 0.],\n",
       "       [0., 0., 0., 0., 0., 0., 0., 0., 0., 0., 0., 0., 0., 0., 0., 0.],\n",
       "       [0., 0., 0., 0., 0., 0., 0., 0., 0., 0., 0., 0., 0., 0., 0., 0.]],\n",
       "      dtype=float32)"
      ]
     },
     "execution_count": 155,
     "metadata": {},
     "output_type": "execute_result"
    }
   ],
   "source": [
    "test"
   ]
  },
  {
   "cell_type": "code",
   "execution_count": 156,
   "metadata": {},
   "outputs": [
    {
     "data": {
      "text/plain": [
       "torch.Size([32, 16, 16, 9])"
      ]
     },
     "execution_count": 156,
     "metadata": {},
     "output_type": "execute_result"
    }
   ],
   "source": [
    "storage.shape"
   ]
  },
  {
   "cell_type": "code",
   "execution_count": 52,
   "metadata": {},
   "outputs": [],
   "source": [
    "import torch\n",
    "from torch import nn\n",
    "from config import model_config as cfg\n",
    "import numpy as np\n",
    "from utils.recurrence import rec_plot\n",
    "\n",
    "class recurrence_autoencoder(nn.Module):\n",
    "    \"\"\"Some Information about recurrence_autoencoder\"\"\"\n",
    "    def __init__(self):\n",
    "        super(recurrence_autoencoder, self).__init__()\n",
    "\n",
    "        # Flow(2) + BBox(4) + Ego(3) -> 9channel\n",
    "        # 16 * 16 * 9 Image\n",
    "\n",
    "        # 16*9 -> 16*16 -> 8*32 -> 4*64 -> 4*128\n",
    "        self.encoder = nn.Sequential(\n",
    "            #input = 16 * 16 * 9\n",
    "            nn.Conv2d(9, 16, 3, padding = 'same'),\n",
    "            nn.ReLU(),\n",
    "            # result = 16 * 16 * 16\n",
    "\n",
    "            #input = 16 * 16 * 16\n",
    "            nn.Conv2d(16, 32, 3, padding = 'same'),\n",
    "            nn.ReLU(),\n",
    "            nn.MaxPool2d(2,2),\n",
    "            # result = 8 * 8 * 32\n",
    "\n",
    "            #input = 8 * 8 * 32\n",
    "            nn.Conv2d(32, 64, 3, padding = 'same'),\n",
    "            nn.ReLU(),\n",
    "            nn.MaxPool2d(2, 2),\n",
    "            # result = 4 * 4 * 64\n",
    "        \n",
    "            #input = 4 * 4 * 64\n",
    "            nn.Conv2d(64, 128, 3, padding = 'same'),\n",
    "            nn.ReLU(),\n",
    "            nn.MaxPool2d(2, 2, return_indices= True)\n",
    "            # result = 2 * 2 * 128\n",
    "        )\n",
    "\n",
    "        # 2 * 128 -> 4 * 64 -> 8 * 32 -> 16 * 16 -> 16 * 9\n",
    "        self.a  = nn.ConvTranspose2d(128, 64, 3, padding = 'same')\n",
    "        self.b = nn.ReLU()\n",
    "        self.c = nn.ConvTranspose2d(64, 64, 3, 3, ) ## 어떻게 쓰는걸까?\n",
    "        self.decoder = nn.Sequential(\n",
    "            # input = 2 * 2 * 128\n",
    "            #nn.Conv2d(128, 64, 3, padding = 'same'),\n",
    "            #nn.ReLU(),\n",
    "            #nn.MaxUnpool2d(2, 2),\n",
    "            # result = 4 * 4 * 64\n",
    "\n",
    "            # input = 2 * 2 * 128\n",
    "            nn.Conv2d(64, 32, 3, padding = 'same'),\n",
    "            nn.ReLU(),\n",
    "            nn.MaxUnpool2d(2, 2),\n",
    "            # result = 8 * 8 * 32\n",
    "\n",
    "            # input = 8 * 8 * 32\n",
    "            nn.Conv2d(32, 16, 3, padding = 'same'),\n",
    "            nn.ReLU(),\n",
    "            nn.MaxUnpool2d(2, 2),\n",
    "            # result = 16 * 16 * 16\n",
    "\n",
    "            # input = 16 * 16 * 16\n",
    "            nn.Conv2d(16, 9, 3, padding = 'same', ),\n",
    "            nn.ReLU()\n",
    "            # result = 4 * 4 * 64\n",
    "\n",
    "        )\n",
    "\n",
    "    def forward(self, x):\n",
    "        x = x.view(x.shape[0], x.shape[-1], x.shape[1], x.shape[2])\n",
    "        feature, indices = self.encoder(x)\n",
    "\n",
    "        feature = self.a(feature)\n",
    "        feature = self.b(feature)\n",
    "        feature = self.c(feature, indices = indices)\n",
    "        \n",
    "        result = self.decoder(feature)\n",
    "        return result"
   ]
  },
  {
   "cell_type": "code",
   "execution_count": 53,
   "metadata": {},
   "outputs": [],
   "source": [
    "model = recurrence_autoencoder()"
   ]
  },
  {
   "cell_type": "code",
   "execution_count": 54,
   "metadata": {},
   "outputs": [],
   "source": [
    "model = model.to('cuda')"
   ]
  },
  {
   "cell_type": "code",
   "execution_count": 55,
   "metadata": {},
   "outputs": [
    {
     "data": {
      "text/plain": [
       "torch.Size([32, 16, 16, 9])"
      ]
     },
     "execution_count": 55,
     "metadata": {},
     "output_type": "execute_result"
    }
   ],
   "source": [
    "storage.shape"
   ]
  },
  {
   "cell_type": "code",
   "execution_count": 56,
   "metadata": {},
   "outputs": [
    {
     "ename": "RuntimeError",
     "evalue": "Expected shape of indices to be: [32, 64, 2, 2] but got: [32, 128, 2, 2]",
     "output_type": "error",
     "traceback": [
      "\u001b[1;31m---------------------------------------------------------------------------\u001b[0m",
      "\u001b[1;31mRuntimeError\u001b[0m                              Traceback (most recent call last)",
      "Cell \u001b[1;32mIn [56], line 1\u001b[0m\n\u001b[1;32m----> 1\u001b[0m result \u001b[39m=\u001b[39m model(storage)\n",
      "File \u001b[1;32mc:\\Users\\KaAI\\anaconda3\\envs\\etc\\lib\\site-packages\\torch\\nn\\modules\\module.py:1190\u001b[0m, in \u001b[0;36mModule._call_impl\u001b[1;34m(self, *input, **kwargs)\u001b[0m\n\u001b[0;32m   1186\u001b[0m \u001b[39m# If we don't have any hooks, we want to skip the rest of the logic in\u001b[39;00m\n\u001b[0;32m   1187\u001b[0m \u001b[39m# this function, and just call forward.\u001b[39;00m\n\u001b[0;32m   1188\u001b[0m \u001b[39mif\u001b[39;00m \u001b[39mnot\u001b[39;00m (\u001b[39mself\u001b[39m\u001b[39m.\u001b[39m_backward_hooks \u001b[39mor\u001b[39;00m \u001b[39mself\u001b[39m\u001b[39m.\u001b[39m_forward_hooks \u001b[39mor\u001b[39;00m \u001b[39mself\u001b[39m\u001b[39m.\u001b[39m_forward_pre_hooks \u001b[39mor\u001b[39;00m _global_backward_hooks\n\u001b[0;32m   1189\u001b[0m         \u001b[39mor\u001b[39;00m _global_forward_hooks \u001b[39mor\u001b[39;00m _global_forward_pre_hooks):\n\u001b[1;32m-> 1190\u001b[0m     \u001b[39mreturn\u001b[39;00m forward_call(\u001b[39m*\u001b[39;49m\u001b[39minput\u001b[39;49m, \u001b[39m*\u001b[39;49m\u001b[39m*\u001b[39;49mkwargs)\n\u001b[0;32m   1191\u001b[0m \u001b[39m# Do not call functions when jit is used\u001b[39;00m\n\u001b[0;32m   1192\u001b[0m full_backward_hooks, non_full_backward_hooks \u001b[39m=\u001b[39m [], []\n",
      "Cell \u001b[1;32mIn [52], line 77\u001b[0m, in \u001b[0;36mrecurrence_autoencoder.forward\u001b[1;34m(self, x)\u001b[0m\n\u001b[0;32m     75\u001b[0m feature \u001b[39m=\u001b[39m \u001b[39mself\u001b[39m\u001b[39m.\u001b[39ma(feature)\n\u001b[0;32m     76\u001b[0m feature \u001b[39m=\u001b[39m \u001b[39mself\u001b[39m\u001b[39m.\u001b[39mb(feature)\n\u001b[1;32m---> 77\u001b[0m feature \u001b[39m=\u001b[39m \u001b[39mself\u001b[39;49m\u001b[39m.\u001b[39;49mc(feature, indices \u001b[39m=\u001b[39;49m indices)\n\u001b[0;32m     79\u001b[0m result \u001b[39m=\u001b[39m \u001b[39mself\u001b[39m\u001b[39m.\u001b[39mdecoder(feature)\n\u001b[0;32m     80\u001b[0m \u001b[39mreturn\u001b[39;00m result\n",
      "File \u001b[1;32mc:\\Users\\KaAI\\anaconda3\\envs\\etc\\lib\\site-packages\\torch\\nn\\modules\\module.py:1190\u001b[0m, in \u001b[0;36mModule._call_impl\u001b[1;34m(self, *input, **kwargs)\u001b[0m\n\u001b[0;32m   1186\u001b[0m \u001b[39m# If we don't have any hooks, we want to skip the rest of the logic in\u001b[39;00m\n\u001b[0;32m   1187\u001b[0m \u001b[39m# this function, and just call forward.\u001b[39;00m\n\u001b[0;32m   1188\u001b[0m \u001b[39mif\u001b[39;00m \u001b[39mnot\u001b[39;00m (\u001b[39mself\u001b[39m\u001b[39m.\u001b[39m_backward_hooks \u001b[39mor\u001b[39;00m \u001b[39mself\u001b[39m\u001b[39m.\u001b[39m_forward_hooks \u001b[39mor\u001b[39;00m \u001b[39mself\u001b[39m\u001b[39m.\u001b[39m_forward_pre_hooks \u001b[39mor\u001b[39;00m _global_backward_hooks\n\u001b[0;32m   1189\u001b[0m         \u001b[39mor\u001b[39;00m _global_forward_hooks \u001b[39mor\u001b[39;00m _global_forward_pre_hooks):\n\u001b[1;32m-> 1190\u001b[0m     \u001b[39mreturn\u001b[39;00m forward_call(\u001b[39m*\u001b[39;49m\u001b[39minput\u001b[39;49m, \u001b[39m*\u001b[39;49m\u001b[39m*\u001b[39;49mkwargs)\n\u001b[0;32m   1191\u001b[0m \u001b[39m# Do not call functions when jit is used\u001b[39;00m\n\u001b[0;32m   1192\u001b[0m full_backward_hooks, non_full_backward_hooks \u001b[39m=\u001b[39m [], []\n",
      "File \u001b[1;32mc:\\Users\\KaAI\\anaconda3\\envs\\etc\\lib\\site-packages\\torch\\nn\\modules\\pooling.py:406\u001b[0m, in \u001b[0;36mMaxUnpool2d.forward\u001b[1;34m(self, input, indices, output_size)\u001b[0m\n\u001b[0;32m    405\u001b[0m \u001b[39mdef\u001b[39;00m \u001b[39mforward\u001b[39m(\u001b[39mself\u001b[39m, \u001b[39minput\u001b[39m: Tensor, indices: Tensor, output_size: Optional[List[\u001b[39mint\u001b[39m]] \u001b[39m=\u001b[39m \u001b[39mNone\u001b[39;00m) \u001b[39m-\u001b[39m\u001b[39m>\u001b[39m Tensor:\n\u001b[1;32m--> 406\u001b[0m     \u001b[39mreturn\u001b[39;00m F\u001b[39m.\u001b[39;49mmax_unpool2d(\u001b[39minput\u001b[39;49m, indices, \u001b[39mself\u001b[39;49m\u001b[39m.\u001b[39;49mkernel_size, \u001b[39mself\u001b[39;49m\u001b[39m.\u001b[39;49mstride,\n\u001b[0;32m    407\u001b[0m                           \u001b[39mself\u001b[39;49m\u001b[39m.\u001b[39;49mpadding, output_size)\n",
      "File \u001b[1;32mc:\\Users\\KaAI\\anaconda3\\envs\\etc\\lib\\site-packages\\torch\\nn\\functional.py:980\u001b[0m, in \u001b[0;36mmax_unpool2d\u001b[1;34m(input, indices, kernel_size, stride, padding, output_size)\u001b[0m\n\u001b[0;32m    978\u001b[0m padding \u001b[39m=\u001b[39m _pair(padding)\n\u001b[0;32m    979\u001b[0m output_size \u001b[39m=\u001b[39m _unpool_output_size(\u001b[39minput\u001b[39m, kernel_size, _stride, padding, output_size)\n\u001b[1;32m--> 980\u001b[0m \u001b[39mreturn\u001b[39;00m torch\u001b[39m.\u001b[39;49m_C\u001b[39m.\u001b[39;49m_nn\u001b[39m.\u001b[39;49mmax_unpool2d(\u001b[39minput\u001b[39;49m, indices, output_size)\n",
      "\u001b[1;31mRuntimeError\u001b[0m: Expected shape of indices to be: [32, 64, 2, 2] but got: [32, 128, 2, 2]"
     ]
    }
   ],
   "source": [
    "result = model(storage)"
   ]
  },
  {
   "cell_type": "code",
   "execution_count": 163,
   "metadata": {},
   "outputs": [
    {
     "data": {
      "text/plain": [
       "torch.Size([32, 16, 16, 9])"
      ]
     },
     "execution_count": 163,
     "metadata": {},
     "output_type": "execute_result"
    }
   ],
   "source": [
    "result.shape"
   ]
  },
  {
   "cell_type": "code",
   "execution_count": 165,
   "metadata": {},
   "outputs": [],
   "source": [
    "loss = torch.nn.MSELoss()"
   ]
  },
  {
   "cell_type": "code",
   "execution_count": 166,
   "metadata": {},
   "outputs": [],
   "source": [
    "loss_value = loss(result, storage)"
   ]
  },
  {
   "cell_type": "code",
   "execution_count": 169,
   "metadata": {},
   "outputs": [
    {
     "name": "stdout",
     "output_type": "stream",
     "text": [
      "tensor(0., device='cuda:0')\n",
      "tensor(0., device='cuda:0')\n",
      "tensor(0., device='cuda:0')\n",
      "tensor(0., device='cuda:0')\n",
      "tensor(0., device='cuda:0')\n",
      "tensor(0., device='cuda:0')\n",
      "tensor(0., device='cuda:0')\n",
      "tensor(0., device='cuda:0')\n",
      "tensor(0., device='cuda:0')\n",
      "tensor(0., device='cuda:0')\n",
      "tensor(0., device='cuda:0')\n",
      "tensor(0., device='cuda:0')\n",
      "tensor(0., device='cuda:0')\n",
      "tensor(0., device='cuda:0')\n",
      "tensor(0., device='cuda:0')\n",
      "tensor(0., device='cuda:0')\n",
      "tensor(0., device='cuda:0')\n",
      "tensor(0., device='cuda:0')\n",
      "tensor(0., device='cuda:0')\n",
      "tensor(0., device='cuda:0')\n",
      "tensor(0., device='cuda:0')\n",
      "tensor(0., device='cuda:0')\n",
      "tensor(0., device='cuda:0')\n",
      "tensor(0., device='cuda:0')\n",
      "tensor(0., device='cuda:0')\n",
      "tensor(0., device='cuda:0')\n",
      "tensor(0., device='cuda:0')\n",
      "tensor(0., device='cuda:0')\n",
      "tensor(0., device='cuda:0')\n",
      "tensor(0., device='cuda:0')\n",
      "tensor(0., device='cuda:0')\n",
      "tensor(0., device='cuda:0')\n",
      "tensor(0., device='cuda:0')\n",
      "tensor(0., device='cuda:0')\n",
      "tensor(0., device='cuda:0')\n",
      "tensor(0., device='cuda:0')\n",
      "tensor(0., device='cuda:0')\n",
      "tensor(0., device='cuda:0')\n",
      "tensor(0., device='cuda:0')\n",
      "tensor(0., device='cuda:0')\n",
      "tensor(0., device='cuda:0')\n",
      "tensor(0., device='cuda:0')\n",
      "tensor(0., device='cuda:0')\n",
      "tensor(0., device='cuda:0')\n",
      "tensor(0., device='cuda:0')\n",
      "tensor(0., device='cuda:0')\n",
      "tensor(0., device='cuda:0')\n",
      "tensor(0., device='cuda:0')\n",
      "tensor(0., device='cuda:0')\n",
      "tensor(0., device='cuda:0')\n",
      "tensor(0., device='cuda:0')\n",
      "tensor(0., device='cuda:0')\n",
      "tensor(0., device='cuda:0')\n",
      "tensor(0., device='cuda:0')\n",
      "tensor(0., device='cuda:0')\n",
      "tensor(0., device='cuda:0')\n",
      "tensor(0., device='cuda:0')\n",
      "tensor(0., device='cuda:0')\n",
      "tensor(0., device='cuda:0')\n",
      "tensor(0., device='cuda:0')\n",
      "tensor(0., device='cuda:0')\n",
      "tensor(0., device='cuda:0')\n",
      "tensor(0., device='cuda:0')\n",
      "tensor(0., device='cuda:0')\n",
      "tensor(0., device='cuda:0')\n",
      "tensor(0., device='cuda:0')\n",
      "tensor(0., device='cuda:0')\n",
      "tensor(0., device='cuda:0')\n",
      "tensor(0., device='cuda:0')\n",
      "tensor(0., device='cuda:0')\n",
      "tensor(0., device='cuda:0')\n",
      "tensor(0., device='cuda:0')\n",
      "tensor(0., device='cuda:0')\n",
      "tensor(0., device='cuda:0')\n",
      "tensor(0., device='cuda:0')\n",
      "tensor(0., device='cuda:0')\n",
      "tensor(0., device='cuda:0')\n",
      "tensor(0., device='cuda:0')\n",
      "tensor(0., device='cuda:0')\n",
      "tensor(0., device='cuda:0')\n",
      "tensor(0., device='cuda:0')\n",
      "tensor(0., device='cuda:0')\n",
      "tensor(0., device='cuda:0')\n",
      "tensor(0., device='cuda:0')\n",
      "tensor(0., device='cuda:0')\n",
      "tensor(0., device='cuda:0')\n",
      "tensor(0., device='cuda:0')\n",
      "tensor(0., device='cuda:0')\n",
      "tensor(0., device='cuda:0')\n",
      "tensor(0., device='cuda:0')\n",
      "tensor(0., device='cuda:0')\n",
      "tensor(0., device='cuda:0')\n",
      "tensor(0., device='cuda:0')\n",
      "tensor(0., device='cuda:0')\n",
      "tensor(0., device='cuda:0')\n",
      "tensor(0., device='cuda:0')\n",
      "tensor(0., device='cuda:0')\n",
      "tensor(0., device='cuda:0')\n",
      "tensor(0., device='cuda:0')\n",
      "tensor(0., device='cuda:0')\n",
      "tensor(0., device='cuda:0')\n",
      "tensor(0., device='cuda:0')\n",
      "tensor(0., device='cuda:0')\n",
      "tensor(0., device='cuda:0')\n",
      "tensor(0., device='cuda:0')\n",
      "tensor(0., device='cuda:0')\n",
      "tensor(0., device='cuda:0')\n",
      "tensor(0., device='cuda:0')\n",
      "tensor(0., device='cuda:0')\n",
      "tensor(0., device='cuda:0')\n",
      "tensor(0., device='cuda:0')\n",
      "tensor(0., device='cuda:0')\n",
      "tensor(0., device='cuda:0')\n",
      "tensor(0., device='cuda:0')\n",
      "tensor(0., device='cuda:0')\n",
      "tensor(0., device='cuda:0')\n",
      "tensor(0., device='cuda:0')\n",
      "tensor(0., device='cuda:0')\n",
      "tensor(0., device='cuda:0')\n",
      "tensor(0., device='cuda:0')\n",
      "tensor(0., device='cuda:0')\n",
      "tensor(0., device='cuda:0')\n",
      "tensor(0., device='cuda:0')\n",
      "tensor(0., device='cuda:0')\n",
      "tensor(0., device='cuda:0')\n",
      "tensor(0., device='cuda:0')\n",
      "tensor(0., device='cuda:0')\n",
      "tensor(0., device='cuda:0')\n",
      "tensor(0., device='cuda:0')\n",
      "tensor(0., device='cuda:0')\n",
      "tensor(0., device='cuda:0')\n",
      "tensor(0., device='cuda:0')\n",
      "tensor(0., device='cuda:0')\n",
      "tensor(0., device='cuda:0')\n",
      "tensor(0., device='cuda:0')\n",
      "tensor(0., device='cuda:0')\n",
      "tensor(0., device='cuda:0')\n",
      "tensor(0., device='cuda:0')\n",
      "tensor(0., device='cuda:0')\n",
      "tensor(0., device='cuda:0')\n",
      "tensor(0., device='cuda:0')\n",
      "tensor(0., device='cuda:0')\n",
      "tensor(0., device='cuda:0')\n",
      "tensor(0., device='cuda:0')\n",
      "tensor(0., device='cuda:0')\n",
      "tensor(0., device='cuda:0')\n",
      "tensor(0., device='cuda:0')\n",
      "tensor(0., device='cuda:0')\n",
      "tensor(0., device='cuda:0')\n",
      "tensor(0., device='cuda:0')\n",
      "tensor(0., device='cuda:0')\n",
      "tensor(0., device='cuda:0')\n",
      "tensor(0., device='cuda:0')\n",
      "tensor(0., device='cuda:0')\n",
      "tensor(0., device='cuda:0')\n",
      "tensor(0., device='cuda:0')\n",
      "tensor(0., device='cuda:0')\n",
      "tensor(0., device='cuda:0')\n",
      "tensor(0., device='cuda:0')\n",
      "tensor(0., device='cuda:0')\n",
      "tensor(0., device='cuda:0')\n",
      "tensor(0., device='cuda:0')\n",
      "tensor(0., device='cuda:0')\n",
      "tensor(0., device='cuda:0')\n",
      "tensor(0., device='cuda:0')\n",
      "tensor(0., device='cuda:0')\n",
      "tensor(0., device='cuda:0')\n",
      "tensor(0., device='cuda:0')\n",
      "tensor(0., device='cuda:0')\n",
      "tensor(0., device='cuda:0')\n",
      "tensor(0., device='cuda:0')\n",
      "tensor(0., device='cuda:0')\n",
      "tensor(0., device='cuda:0')\n",
      "tensor(0., device='cuda:0')\n",
      "tensor(0., device='cuda:0')\n",
      "tensor(0., device='cuda:0')\n",
      "tensor(0., device='cuda:0')\n",
      "tensor(0., device='cuda:0')\n",
      "tensor(0., device='cuda:0')\n",
      "tensor(0., device='cuda:0')\n",
      "tensor(0., device='cuda:0')\n",
      "tensor(0., device='cuda:0')\n",
      "tensor(0., device='cuda:0')\n",
      "tensor(0., device='cuda:0')\n",
      "tensor(0., device='cuda:0')\n",
      "tensor(0., device='cuda:0')\n",
      "tensor(0., device='cuda:0')\n",
      "tensor(0., device='cuda:0')\n",
      "tensor(0., device='cuda:0')\n",
      "tensor(0., device='cuda:0')\n",
      "tensor(0., device='cuda:0')\n",
      "tensor(0., device='cuda:0')\n",
      "tensor(0., device='cuda:0')\n",
      "tensor(0., device='cuda:0')\n",
      "tensor(0., device='cuda:0')\n",
      "tensor(0., device='cuda:0')\n",
      "tensor(0., device='cuda:0')\n",
      "tensor(0., device='cuda:0')\n",
      "tensor(0., device='cuda:0')\n",
      "tensor(0., device='cuda:0')\n",
      "tensor(0., device='cuda:0')\n",
      "tensor(0., device='cuda:0')\n",
      "tensor(0., device='cuda:0')\n",
      "tensor(0., device='cuda:0')\n",
      "tensor(0., device='cuda:0')\n",
      "tensor(0., device='cuda:0')\n",
      "tensor(0., device='cuda:0')\n",
      "tensor(0., device='cuda:0')\n",
      "tensor(0., device='cuda:0')\n",
      "tensor(0., device='cuda:0')\n",
      "tensor(0., device='cuda:0')\n",
      "tensor(0., device='cuda:0')\n",
      "tensor(0., device='cuda:0')\n",
      "tensor(0., device='cuda:0')\n",
      "tensor(0., device='cuda:0')\n",
      "tensor(0., device='cuda:0')\n",
      "tensor(0., device='cuda:0')\n",
      "tensor(0., device='cuda:0')\n",
      "tensor(0., device='cuda:0')\n",
      "tensor(0., device='cuda:0')\n",
      "tensor(0., device='cuda:0')\n",
      "tensor(0., device='cuda:0')\n",
      "tensor(0., device='cuda:0')\n",
      "tensor(0., device='cuda:0')\n",
      "tensor(0., device='cuda:0')\n",
      "tensor(0., device='cuda:0')\n",
      "tensor(0., device='cuda:0')\n",
      "tensor(0., device='cuda:0')\n",
      "tensor(0., device='cuda:0')\n",
      "tensor(0., device='cuda:0')\n",
      "tensor(0., device='cuda:0')\n",
      "tensor(0., device='cuda:0')\n",
      "tensor(0., device='cuda:0')\n",
      "tensor(0., device='cuda:0')\n",
      "tensor(0., device='cuda:0')\n",
      "tensor(0., device='cuda:0')\n",
      "tensor(0., device='cuda:0')\n",
      "tensor(0., device='cuda:0')\n",
      "tensor(0., device='cuda:0')\n",
      "tensor(0., device='cuda:0')\n",
      "tensor(0., device='cuda:0')\n",
      "tensor(0., device='cuda:0')\n",
      "tensor(0., device='cuda:0')\n",
      "tensor(0., device='cuda:0')\n",
      "tensor(0., device='cuda:0')\n",
      "tensor(0., device='cuda:0')\n",
      "tensor(0., device='cuda:0')\n",
      "tensor(0., device='cuda:0')\n",
      "tensor(0., device='cuda:0')\n",
      "tensor(0., device='cuda:0')\n",
      "tensor(0., device='cuda:0')\n",
      "tensor(0., device='cuda:0')\n",
      "tensor(0., device='cuda:0')\n",
      "tensor(0., device='cuda:0')\n",
      "tensor(0., device='cuda:0')\n",
      "tensor(0., device='cuda:0')\n"
     ]
    }
   ],
   "source": [
    "for i in range(16):\n",
    "    for j in range(16):\n",
    "        print(result[0,i,j,0] - storage[0,i,j,0])"
   ]
  },
  {
   "cell_type": "code",
   "execution_count": 57,
   "metadata": {},
   "outputs": [],
   "source": [
    "test = torch.randn((32, 16, 4, 4))"
   ]
  },
  {
   "cell_type": "code",
   "execution_count": 69,
   "metadata": {},
   "outputs": [],
   "source": [
    "layer = nn.ConvTranspose2d(16, 8, 3, 1, padding= 0)"
   ]
  },
  {
   "cell_type": "code",
   "execution_count": 70,
   "metadata": {},
   "outputs": [],
   "source": [
    "result = layer(test)"
   ]
  },
  {
   "cell_type": "code",
   "execution_count": 71,
   "metadata": {},
   "outputs": [
    {
     "data": {
      "text/plain": [
       "torch.Size([32, 8, 6, 6])"
      ]
     },
     "execution_count": 71,
     "metadata": {},
     "output_type": "execute_result"
    }
   ],
   "source": [
    "result.shape"
   ]
  },
  {
   "cell_type": "code",
   "execution_count": null,
   "metadata": {},
   "outputs": [],
   "source": []
  }
 ],
 "metadata": {
  "kernelspec": {
   "display_name": "etc",
   "language": "python",
   "name": "python3"
  },
  "language_info": {
   "codemirror_mode": {
    "name": "ipython",
    "version": 3
   },
   "file_extension": ".py",
   "mimetype": "text/x-python",
   "name": "python",
   "nbconvert_exporter": "python",
   "pygments_lexer": "ipython3",
   "version": "3.8.13"
  },
  "orig_nbformat": 4,
  "vscode": {
   "interpreter": {
    "hash": "d7eb1680bb147ac94cb4aa4715d7327236eefa05acb6cc510894634fb6dddd6e"
   }
  }
 },
 "nbformat": 4,
 "nbformat_minor": 2
}
