{
 "cells": [
  {
   "cell_type": "code",
   "execution_count": 2,
   "metadata": {},
   "outputs": [
    {
     "name": "stdout",
     "output_type": "stream",
     "text": [
      "python track_v5.py --name 1f008ddc-eb6aa651\n",
      "python track_v5.py --name 1f0176e4-3225a196\n"
     ]
    },
    {
     "ename": "KeyboardInterrupt",
     "evalue": "",
     "output_type": "error",
     "traceback": [
      "\u001b[1;31m---------------------------------------------------------------------------\u001b[0m",
      "\u001b[1;31mKeyboardInterrupt\u001b[0m                         Traceback (most recent call last)",
      "\u001b[1;32mc:\\Users\\rosha\\Desktop\\StrongSORT-YOLO-main\\run_code.ipynb 셀 1\u001b[0m in \u001b[0;36m<cell line: 8>\u001b[1;34m()\u001b[0m\n\u001b[0;32m      <a href='vscode-notebook-cell:/c%3A/Users/rosha/Desktop/StrongSORT-YOLO-main/run_code.ipynb#W0sZmlsZQ%3D%3D?line=8'>9</a>\u001b[0m r_cmd \u001b[39m=\u001b[39m s_cmd \u001b[39m+\u001b[39m i \n\u001b[0;32m     <a href='vscode-notebook-cell:/c%3A/Users/rosha/Desktop/StrongSORT-YOLO-main/run_code.ipynb#W0sZmlsZQ%3D%3D?line=9'>10</a>\u001b[0m \u001b[39mprint\u001b[39m(r_cmd)\n\u001b[1;32m---> <a href='vscode-notebook-cell:/c%3A/Users/rosha/Desktop/StrongSORT-YOLO-main/run_code.ipynb#W0sZmlsZQ%3D%3D?line=10'>11</a>\u001b[0m os\u001b[39m.\u001b[39;49msystem(r_cmd)\n",
      "\u001b[1;31mKeyboardInterrupt\u001b[0m: "
     ]
    }
   ],
   "source": [
    "import os\n",
    "\n",
    "f_path = \"D:/bdd100k/images/train/\"\n",
    "file_list = os.listdir(f_path)\n",
    "s_cmd = \"python track_v5.py --name \"\n",
    "\n",
    "\n",
    "for i in file_list:\n",
    "    r_cmd = s_cmd + i \n",
    "    print(r_cmd)\n",
    "    os.system(r_cmd)"
   ]
  }
 ],
 "metadata": {
  "kernelspec": {
   "display_name": "yolo",
   "language": "python",
   "name": "python3"
  },
  "language_info": {
   "codemirror_mode": {
    "name": "ipython",
    "version": 3
   },
   "file_extension": ".py",
   "mimetype": "text/x-python",
   "name": "python",
   "nbconvert_exporter": "python",
   "pygments_lexer": "ipython3",
   "version": "3.9.12"
  },
  "orig_nbformat": 4,
  "vscode": {
   "interpreter": {
    "hash": "b275b42b7a0c287435e08f51c3dc31f6db8000aa037e602aa59b617446d7599f"
   }
  }
 },
 "nbformat": 4,
 "nbformat_minor": 2
}
